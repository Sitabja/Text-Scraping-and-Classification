{
 "cells": [
  {
   "cell_type": "markdown",
   "metadata": {},
   "source": [
    "# COMP41680 Assignment 2:Text Scraping and Classification"
   ]
  },
  {
   "cell_type": "markdown",
   "metadata": {},
   "source": [
    "## Import Packages"
   ]
  },
  {
   "cell_type": "code",
   "execution_count": 3,
   "metadata": {
    "collapsed": true
   },
   "outputs": [],
   "source": [
    "import bs4\n",
    "import urllib\n",
    "import pandas as pd\n",
    "import os\n",
    "import errno\n",
    "import nltk\n",
    "from sklearn.feature_extraction.text import CountVectorizer\n",
    "from sklearn.pipeline import Pipeline\n",
    "from sklearn.model_selection import train_test_split"
   ]
  },
  {
   "cell_type": "markdown",
   "metadata": {},
   "source": [
    "## Part 1. Data Collection"
   ]
  },
  {
   "cell_type": "code",
   "execution_count": 66,
   "metadata": {
    "collapsed": true
   },
   "outputs": [],
   "source": [
    "#base url\n",
    "base_url = \"http://mlg.ucd.ie/modules/COMP41680/archive/\"\n",
    "#index_page \n",
    "index_page = \"index.html\""
   ]
  },
  {
   "cell_type": "markdown",
   "metadata": {},
   "source": [
    "extract the links from the given page"
   ]
  },
  {
   "cell_type": "code",
   "execution_count": 67,
   "metadata": {
    "collapsed": true
   },
   "outputs": [],
   "source": [
    "#get internal links\n",
    "def get_internal_links(relative_url):\n",
    "    href_links = []\n",
    "    response = urllib.request.urlopen(base_url+relative_url)\n",
    "    data = response.read().decode()\n",
    "    parser = bs4.BeautifulSoup(data,\"html.parser\")\n",
    "    for link in parser.find_all('a'):\n",
    "        link_href = link.get('href')\n",
    "        if link_href.startswith('month'):\n",
    "            href_links.append(link_href)\n",
    "    return href_links"
   ]
  },
  {
   "cell_type": "code",
   "execution_count": 68,
   "metadata": {
    "collapsed": true
   },
   "outputs": [],
   "source": [
    "# global Id is taken for the file names\n",
    "TEXT_ID = 1"
   ]
  },
  {
   "cell_type": "markdown",
   "metadata": {},
   "source": [
    "#### Methods of web scrapping"
   ]
  },
  {
   "cell_type": "code",
   "execution_count": 69,
   "metadata": {
    "collapsed": true
   },
   "outputs": [],
   "source": [
    "def get_category_article(relative_url):\n",
    "    global TEXT_ID\n",
    "    response = urllib.request.urlopen(base_url+relative_url)\n",
    "    data = response.read().decode()\n",
    "    parser = bs4.BeautifulSoup(data,\"html.parser\")\n",
    "    table = parser.find(\"table\").find('tbody')\n",
    "    records = []\n",
    "   \n",
    "    for row in table.findAll('tr'):\n",
    "        col = row.findAll('td')\n",
    "        category = col[0]\n",
    "        article = col[1]\n",
    "        if category is not None and article is not None:\n",
    "            news_link = article.find('a')\n",
    "            if news_link is not None:\n",
    "                data =[category.text.strip(), article.text.strip(), 'text'+str(TEXT_ID)] \n",
    "                records.append(data)\n",
    "                news_content = get_news_content(news_link.get('href'))\n",
    "                write_to_file(' '.join(news_content),'text'+str(TEXT_ID)+'.txt')\n",
    "                TEXT_ID += 1\n",
    "    return records"
   ]
  },
  {
   "cell_type": "code",
   "execution_count": 95,
   "metadata": {
    "collapsed": true
   },
   "outputs": [],
   "source": [
    "def get_news_content(relative_url):\n",
    "    response = urllib.request.urlopen(base_url+relative_url)\n",
    "    data = response.read().decode()\n",
    "    parser = bs4.BeautifulSoup(data,\"html.parser\")\n",
    "    text_body = []\n",
    "    # find all p where class not equal to 'notice' (All article body has a notice which says \"Return to article search page\")\n",
    "    for link1 in parser.findAll(['p','b'],class_=lambda x: x != 'notice'):\n",
    "        text_body.append(''.join(link1.get_text()))\n",
    "    return text_body"
   ]
  },
  {
   "cell_type": "code",
   "execution_count": 96,
   "metadata": {
    "collapsed": true
   },
   "outputs": [],
   "source": [
    "def write_to_file(article,filename):\n",
    "    filename = 'articles/'+filename\n",
    "    if not os.path.exists(os.path.dirname(filename)):\n",
    "        try:\n",
    "            os.makedirs(os.path.dirname(filename))\n",
    "        except OSError as exc: # Guard against race condition\n",
    "            if exc.errno != errno.EEXIST:\n",
    "                raise\n",
    "    with open(filename, 'w', encoding=\"utf-8\") as out:\n",
    "        out.write(article)"
   ]
  },
  {
   "cell_type": "markdown",
   "metadata": {},
   "source": [
    "### Call the above mentioned method to get the data from the web page"
   ]
  },
  {
   "cell_type": "code",
   "execution_count": 98,
   "metadata": {
    "collapsed": true
   },
   "outputs": [],
   "source": [
    "data = []\n",
    "df = pd.DataFrame()\n",
    "update_TextId()\n",
    "for month_link in get_internal_links(index_page):\n",
    "    data.extend(get_category_article(month_link))\n",
    "df = pd.DataFrame(data,columns=['category','article_title', 'file_name'])\n",
    "#store category and file mapping to a csv file\n",
    "df.to_csv('category_file_mapping.csv', sep=',', encoding='utf-8')"
   ]
  },
  {
   "cell_type": "markdown",
   "metadata": {},
   "source": [
    "## Part 2. Text Classification "
   ]
  },
  {
   "cell_type": "code",
   "execution_count": 4,
   "metadata": {},
   "outputs": [],
   "source": [
    "#reading the file\n",
    "categoy_filename_mappring = pd.read_csv('category_file_mapping.csv')"
   ]
  },
  {
   "cell_type": "code",
   "execution_count": 5,
   "metadata": {
    "collapsed": true
   },
   "outputs": [],
   "source": [
    "#labels for the articles\n",
    "labels = categoy_filename_mappring['category'].values"
   ]
  },
  {
   "cell_type": "code",
   "execution_count": 6,
   "metadata": {
    "collapsed": true
   },
   "outputs": [],
   "source": [
    "filenames = categoy_filename_mappring['file_name']\n",
    "raw_documents = []\n",
    "# read the articles\n",
    "for f in filenames:\n",
    "    fin = open('articles/'+f+\".txt\",\"r\", encoding = \"utf8\")\n",
    "    raw_text = fin.read().replace('\\n', ' ')\n",
    "    raw_documents.append(raw_text)\n",
    "    fin.close()"
   ]
  },
  {
   "cell_type": "markdown",
   "metadata": {},
   "source": [
    "## Text pre-processing"
   ]
  },
  {
   "cell_type": "markdown",
   "metadata": {},
   "source": [
    "##### Steps used for Text preprocessing are as follows:"
   ]
  },
  {
   "cell_type": "markdown",
   "metadata": {},
   "source": [
    "<ul>\n",
    "    <li> Tokenisation</li>\n",
    "    <li> Case Conversion (Sckit</li>\n",
    "    <li> Filter Short Terms</li>\n",
    "    <li> Filter StopWords</li>\n",
    "    <li> Lemmatisation</li>\n",
    "    <li> Filter Infrequent Terms</li>\n",
    "    <li> Vectorization</li>\n",
    "    <li> TF-IDF Weighting</li>\n",
    "    <b>NB: By default Scikit-learn converts tokens to lowercase and removes\n",
    "tokens of length 1 </b>\n",
    "</ul>"
   ]
  },
  {
   "cell_type": "code",
   "execution_count": 7,
   "metadata": {
    "collapsed": true
   },
   "outputs": [],
   "source": [
    "# define the function\n",
    "def lemma_tokenizer(text):\n",
    "    # use the standard scikit-learn tokenizer first\n",
    "    standard_tokenizer = CountVectorizer().build_tokenizer()\n",
    "    tokens = standard_tokenizer(text)\n",
    "    # then use NLTK to perform lemmatisation on each token\n",
    "    lemmatizer = nltk.stem.WordNetLemmatizer()\n",
    "    lemma_tokens = []\n",
    "    for token in tokens:\n",
    "        lemma_tokens.append( lemmatizer.lemmatize(token) )\n",
    "    return lemma_tokens"
   ]
  },
  {
   "cell_type": "code",
   "execution_count": 8,
   "metadata": {
    "collapsed": true
   },
   "outputs": [],
   "source": [
    "from sklearn.feature_extraction.text import TfidfVectorizer\n",
    "# remove all stopwords of English , remove words with minimum frequency 3, Lemmatization is done using lemma_tokenizer method\n",
    "vectorizer = TfidfVectorizer(stop_words=\"english\",min_df = 3,tokenizer=lemma_tokenizer)\n",
    "X = vectorizer.fit_transform(raw_documents)"
   ]
  },
  {
   "cell_type": "markdown",
   "metadata": {},
   "source": [
    "### Document-Term Matrix"
   ]
  },
  {
   "cell_type": "code",
   "execution_count": 9,
   "metadata": {},
   "outputs": [
    {
     "data": {
      "text/plain": [
       "array([[ 0.        ,  0.        ,  0.        , ...,  0.        ,\n",
       "         0.        ,  0.        ],\n",
       "       [ 0.        ,  0.04913159,  0.        , ...,  0.        ,\n",
       "         0.        ,  0.05261789],\n",
       "       [ 0.        ,  0.02603928,  0.        , ...,  0.        ,\n",
       "         0.        ,  0.        ],\n",
       "       ..., \n",
       "       [ 0.        ,  0.02160244,  0.        , ...,  0.        ,\n",
       "         0.        ,  0.        ],\n",
       "       [ 0.        ,  0.        ,  0.        , ...,  0.        ,\n",
       "         0.        ,  0.        ],\n",
       "       [ 0.        ,  0.        ,  0.        , ...,  0.        ,\n",
       "         0.        ,  0.        ]])"
      ]
     },
     "execution_count": 9,
     "metadata": {},
     "output_type": "execute_result"
    }
   ],
   "source": [
    "# print the docuemnt term matrix\n",
    "X.toarray()"
   ]
  },
  {
   "cell_type": "code",
   "execution_count": 10,
   "metadata": {
    "collapsed": true
   },
   "outputs": [],
   "source": [
    "#documents\n",
    "X = X.toarray()\n",
    "#labels\n",
    "y = labels"
   ]
  },
  {
   "cell_type": "markdown",
   "metadata": {},
   "source": [
    "#### Split the dataset into training and test set with test size as 25%"
   ]
  },
  {
   "cell_type": "code",
   "execution_count": 11,
   "metadata": {
    "collapsed": true
   },
   "outputs": [],
   "source": [
    "X_train, X_test, y_train, y_test = train_test_split(X, y, test_size=0.25)"
   ]
  },
  {
   "cell_type": "markdown",
   "metadata": {},
   "source": [
    "## Fit the models and evaluate"
   ]
  },
  {
   "cell_type": "markdown",
   "metadata": {},
   "source": [
    "##### Two models are used to fit the data Naive Bayes and K- Nearest Neighbours"
   ]
  },
  {
   "cell_type": "code",
   "execution_count": 12,
   "metadata": {
    "scrolled": true
   },
   "outputs": [
    {
     "data": {
      "text/plain": [
       "KNeighborsClassifier(algorithm='auto', leaf_size=30, metric='minkowski',\n",
       "           metric_params=None, n_jobs=1, n_neighbors=5, p=2,\n",
       "           weights='distance')"
      ]
     },
     "execution_count": 12,
     "metadata": {},
     "output_type": "execute_result"
    }
   ],
   "source": [
    "# import the models from scikit-learn\n",
    "from sklearn.naive_bayes import MultinomialNB\n",
    "from sklearn.neighbors import KNeighborsClassifier\n",
    "# fit NB Classifier\n",
    "nb = MultinomialNB();\n",
    "nb.fit(X_train,y_train)\n",
    "# fit KNN classifier\n",
    "knn = KNeighborsClassifier(weights ='distance')\n",
    "knn.fit(X_train, y_train)"
   ]
  },
  {
   "cell_type": "markdown",
   "metadata": {},
   "source": [
    "### Evaluate the performance of the Models"
   ]
  },
  {
   "cell_type": "markdown",
   "metadata": {},
   "source": [
    "##### Predict the class labels of test set"
   ]
  },
  {
   "cell_type": "code",
   "execution_count": 13,
   "metadata": {
    "collapsed": true
   },
   "outputs": [],
   "source": [
    "# predict NB class lables\n",
    "predicted_nb = nb.predict(X_test)\n",
    "# predict KNN class labels\n",
    "predicted_knn = knn.predict(X_test)"
   ]
  },
  {
   "cell_type": "code",
   "execution_count": 14,
   "metadata": {},
   "outputs": [
    {
     "name": "stdout",
     "output_type": "stream",
     "text": [
      "Accuracy_nb = 0.99\n",
      "Accuracy_knn = 0.97\n"
     ]
    }
   ],
   "source": [
    "# import the scikit-learn accuracy_score functionality\n",
    "from sklearn.metrics import accuracy_score\n",
    "# print the accuracy score for two models\n",
    "print(\"Accuracy_nb = %.2f\" % accuracy_score(y_test, predicted_nb) )\n",
    "print(\"Accuracy_knn = %.2f\" % accuracy_score(y_test, predicted_knn) )"
   ]
  },
  {
   "cell_type": "markdown",
   "metadata": {},
   "source": [
    "##### Performing k-fold cross validation"
   ]
  },
  {
   "cell_type": "code",
   "execution_count": 15,
   "metadata": {},
   "outputs": [
    {
     "name": "stdout",
     "output_type": "stream",
     "text": [
      "cross validation score of Naive Bayes  [ 0.9858156   0.9929078   1.          0.9858156   0.97163121  0.95744681\n",
      "  0.9787234   0.9858156   1.          0.95      ]\n",
      "cross validation score of KNN  [ 0.96453901  0.9787234   0.96453901  0.97163121  0.93617021  0.96453901\n",
      "  0.97163121  0.96453901  0.95        0.95      ]\n"
     ]
    }
   ],
   "source": [
    "#import the scikit-learn cross_val_score functionality\n",
    "from sklearn import model_selection\n",
    "number_of_folds = 10\n",
    "kfold = model_selection.KFold(n_splits=number_of_folds, random_state=7)\n",
    "# calculate the cross_val_score of Naive Bayes classifier \n",
    "acc_scores_nb = model_selection.cross_val_score(nb, X, y, cv=kfold, scoring=\"accuracy\")\n",
    "# calculate the cross_val_score of KNN classifier\n",
    "acc_scores_knn = model_selection.cross_val_score(knn, X, y, cv=kfold, scoring=\"accuracy\")\n",
    "print(\"cross validation score of Naive Bayes \",acc_scores_nb )\n",
    "print(\"cross validation score of KNN \",acc_scores_knn )"
   ]
  },
  {
   "cell_type": "markdown",
   "metadata": {},
   "source": [
    "##### Mean and standard Deviation"
   ]
  },
  {
   "cell_type": "code",
   "execution_count": 16,
   "metadata": {},
   "outputs": [
    {
     "name": "stdout",
     "output_type": "stream",
     "text": [
      "**Average Accuracy**\n",
      "NB:  0.980815602837\n",
      "KNN:  0.961631205674\n",
      "----------------------------\n",
      "**Standard Deviation**\n",
      "NB:  0.0159428222978\n",
      "KNN:  0.0120199689659\n"
     ]
    }
   ],
   "source": [
    "# print the mean and standard deviation of accuracies\n",
    "print(\"**Average Accuracy**\")\n",
    "print(\"NB: \" ,acc_scores_nb.mean())\n",
    "print(\"KNN: \", acc_scores_knn.mean())\n",
    "print(\"----------------------------\")\n",
    "print(\"**Standard Deviation**\")\n",
    "print(\"NB: \" ,acc_scores_nb.std())\n",
    "print(\"KNN: \", acc_scores_knn.std())"
   ]
  },
  {
   "cell_type": "markdown",
   "metadata": {},
   "source": [
    "##### Box plot of accuracy scores for k fold cross validation"
   ]
  },
  {
   "cell_type": "code",
   "execution_count": 17,
   "metadata": {},
   "outputs": [
    {
     "data": {
      "image/png": "[encoded data removed]",
      "text/plain": [
       "<matplotlib.figure.Figure at 0x1b53a54ccc0>"
      ]
     },
     "metadata": {},
     "output_type": "display_data"
    }
   ],
   "source": [
    "import matplotlib.pyplot as plt\n",
    "import seaborn as sns\n",
    "results = [acc_scores_nb, acc_scores_knn]\n",
    "ax = sns.boxplot(data=results, palette=\"Set2\")\n",
    "ax.set_xticklabels(['Naive Bayes', 'KNN'])\n",
    "plt.title(\"Boxplot of Accuracies of two classifiers\")\n",
    "plt.ylabel(\"Accuracy\")\n",
    "plt.show()"
   ]
  },
  {
   "cell_type": "markdown",
   "metadata": {},
   "source": [
    "Accuracy distribution for the folds in 10 fold cross validation, Naive Bayes' accuracy is higher than KNN. The median of Naive Bayes is also higher"
   ]
  },
  {
   "cell_type": "markdown",
   "metadata": {},
   "source": [
    "##### Density distribution plot of accuracy scores for k fold cross validation"
   ]
  },
  {
   "cell_type": "code",
   "execution_count": 21,
   "metadata": {},
   "outputs": [
    {
     "data": {
      "image/png": "[encoded data removed]",
      "text/plain": [
       "<matplotlib.figure.Figure at 0x1b54e6d0320>"
      ]
     },
     "metadata": {},
     "output_type": "display_data"
    }
   ],
   "source": [
    "sns.distplot(results[0])\n",
    "sns.distplot(results[1])\n",
    "plt.legend([\"Naive Bayes\",\"KNN\"])\n",
    "plt.title(\"Histogram of Accuracies of two classifiers\")\n",
    "plt.ylabel(\"Frequency\")\n",
    "plt.xlabel(\"Accuracies\")\n",
    "plt.show()"
   ]
  },
  {
   "cell_type": "markdown",
   "metadata": {},
   "source": [
    "##### Classification Scores for Naive Bayes"
   ]
  },
  {
   "cell_type": "code",
   "execution_count": 19,
   "metadata": {},
   "outputs": [
    {
     "name": "stdout",
     "output_type": "stream",
     "text": [
      "********Naive Bayes Classification Report**********\n",
      "             precision    recall  f1-score   support\n",
      "\n",
      "   business       0.98      1.00      0.99       125\n",
      "      sport       0.99      0.99      0.99       127\n",
      " technology       1.00      0.98      0.99       100\n",
      "\n",
      "avg / total       0.99      0.99      0.99       352\n",
      "\n"
     ]
    }
   ],
   "source": [
    "# Classification report for Naive Bayes\n",
    "from sklearn.metrics import classification_report\n",
    "print(\"********Naive Bayes Classification Report**********\")\n",
    "print(classification_report(y_test, predicted_nb))"
   ]
  },
  {
   "cell_type": "markdown",
   "metadata": {},
   "source": [
    "##### Classification Scores for KNN"
   ]
  },
  {
   "cell_type": "code",
   "execution_count": 20,
   "metadata": {
    "scrolled": true
   },
   "outputs": [
    {
     "name": "stdout",
     "output_type": "stream",
     "text": [
      "********KNN Classification Report**********\n",
      "             precision    recall  f1-score   support\n",
      "\n",
      "   business       0.98      0.97      0.97       125\n",
      "      sport       0.97      0.97      0.97       127\n",
      " technology       0.96      0.97      0.97       100\n",
      "\n",
      "avg / total       0.97      0.97      0.97       352\n",
      "\n"
     ]
    }
   ],
   "source": [
    "# Classification report for KNN\n",
    "print(\"********KNN Classification Report**********\")\n",
    "print(classification_report(y_test, predicted_knn))"
   ]
  },
  {
   "cell_type": "markdown",
   "metadata": {},
   "source": [
    "### Conclusion"
   ]
  },
  {
   "cell_type": "markdown",
   "metadata": {},
   "source": [
    "<ul>\n",
    "    <li>Accuracy measure for test set is higher for Naive Bayes than KNN</li>\n",
    "    <li>Mean accuracy for 10 fold cross validation is higher in case of Naive Bayes</li>\n",
    "    <li>There is not much difference in terms of Standard Deviation</li>\n",
    "<ul>"
   ]
  },
  {
   "cell_type": "markdown",
   "metadata": {},
   "source": [
    "##### Though performance of both the classifiers are good, from the above 3 points , accuracy scores and the plots show that Naive Bayes performed slightly better than KNN"
   ]
  },
  {
   "cell_type": "code",
   "execution_count": null,
   "metadata": {
    "collapsed": true
   },
   "outputs": [],
   "source": []
  }
 ],
 "metadata": {
  "kernelspec": {
   "display_name": "Python 3",
   "language": "python",
   "name": "python3"
  },
  "language_info": {
   "codemirror_mode": {
    "name": "ipython",
    "version": 3
   },
   "file_extension": ".py",
   "mimetype": "text/x-python",
   "name": "python",
   "nbconvert_exporter": "python",
   "pygments_lexer": "ipython3",
   "version": "3.6.1"
  }
 },
 "nbformat": 4,
 "nbformat_minor": 2
}
